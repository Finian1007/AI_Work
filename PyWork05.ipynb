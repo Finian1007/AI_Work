{
 "cells": [
  {
   "cell_type": "markdown",
   "metadata": {},
   "source": [
    "利用Black-Scholes Pricing Formula以及真實選擇權價格，透過Bisection Search反求近似的隱含波動度。"
   ]
  },
  {
   "cell_type": "code",
   "execution_count": 1,
   "metadata": {},
   "outputs": [],
   "source": [
    "from numpy import exp\n",
    "from numpy.lib.scimath import log, sqrt\n",
    "from scipy.stats import norm"
   ]
  },
  {
   "cell_type": "code",
   "execution_count": 2,
   "metadata": {},
   "outputs": [],
   "source": [
    "# Black-Scholes formula for european call price in terms of theory.\n",
    "def Black_Scholes_Call(S, K, r, T, sigma):\n",
    "    d1 = (log(S/K) + (r + 0.5 * sigma**2) * T)/(sigma * sqrt(T))\n",
    "    d2 = d1 - sigma * sqrt(T)\n",
    "    return S * norm.cdf(d1) - K * exp(-r * T) * norm.cdf(d2)\n",
    "\n",
    "# Then use put-call parity, we can also find european put price in terms of theory.\n",
    "def European_Put(S, K, r, T, callPrice):\n",
    "    return callPrice - S + K * exp(-r * T)\n",
    "\n",
    "def ImpliedVolatility(Type, S, K, r, T, marketPrice):\n",
    "    epsilon = 0.0000000001 # 可承受之誤差\n",
    "    low = 0\n",
    "    high = 2\n",
    "    guess = (high + low) / 2\n",
    "    numGuess = 0\n",
    "    if Type == \"Call\":\n",
    "        while abs(Black_Scholes_Call(S, K, r, T, guess) - marketPrice) >= epsilon:\n",
    "            if Black_Scholes_Call(S, K, r, T, guess) < marketPrice:\n",
    "                low = guess\n",
    "            else:\n",
    "                high = guess\n",
    "            numGuess += 1\n",
    "            guess = (high + low) / 2\n",
    "    elif Type == \"Put\":\n",
    "        while abs(European_Put(S, K, r, T, Black_Scholes_Call(S, K, r, T, guess)) - marketPrice) >= epsilon:\n",
    "            if European_Put(S, K, r, T, Black_Scholes_Call(S, K, r, T, guess)) < marketPrice:\n",
    "                low = guess\n",
    "            else:\n",
    "                high = guess\n",
    "            numGuess += 1\n",
    "            guess = (high + low) / 2\n",
    "    print(\"Search times:{}\".format(numGuess))\n",
    "    return guess"
   ]
  },
  {
   "cell_type": "code",
   "execution_count": 3,
   "metadata": {},
   "outputs": [
    {
     "name": "stdout",
     "output_type": "stream",
     "text": [
      "Search times:39\n"
     ]
    },
    {
     "data": {
      "text/plain": [
       "0.30420000000049185"
      ]
     },
     "execution_count": 3,
     "metadata": {},
     "output_type": "execute_result"
    }
   ],
   "source": [
    "ImpliedVolatility(\"Call\", 9439, 9500, 0.01, 1/360, 34.981633711619)\n",
    "# Note: 34.981633711619 is the theoratical price when volatility is 0.3042. Which confirms this code's validity."
   ]
  },
  {
   "cell_type": "code",
   "execution_count": 4,
   "metadata": {},
   "outputs": [
    {
     "name": "stdout",
     "output_type": "stream",
     "text": [
      "Search times:39\n"
     ]
    },
    {
     "data": {
      "text/plain": [
       "0.30420000000049185"
      ]
     },
     "execution_count": 4,
     "metadata": {},
     "output_type": "execute_result"
    }
   ],
   "source": [
    "ImpliedVolatility(\"Put\", 9439, 9500, 0.01, 1/360, 95.71774848781934)\n",
    "# Note: 95.71774848781934 is the theoratical price when volatility is 0.3042. Which confirms this code's validity."
   ]
  },
  {
   "cell_type": "code",
   "execution_count": 5,
   "metadata": {},
   "outputs": [
    {
     "name": "stdout",
     "output_type": "stream",
     "text": [
      "Search times:39\n"
     ]
    },
    {
     "data": {
      "text/plain": [
       "0.30973315388655465"
      ]
     },
     "execution_count": 5,
     "metadata": {},
     "output_type": "execute_result"
    }
   ],
   "source": [
    "# 若今S=9439, K=9500, r=0.01, T=1/360, 且Call市價為36, 則此option隱含波動度如下\n",
    "ImpliedVolatility(\"Call\", 9439, 9500, 0.01, 1/360, 36)"
   ]
  },
  {
   "cell_type": "code",
   "execution_count": null,
   "metadata": {},
   "outputs": [],
   "source": []
  }
 ],
 "metadata": {
  "kernelspec": {
   "display_name": "Python 3",
   "language": "python",
   "name": "python3"
  },
  "language_info": {
   "codemirror_mode": {
    "name": "ipython",
    "version": 3
   },
   "file_extension": ".py",
   "mimetype": "text/x-python",
   "name": "python",
   "nbconvert_exporter": "python",
   "pygments_lexer": "ipython3",
   "version": "3.7.6"
  }
 },
 "nbformat": 4,
 "nbformat_minor": 4
}
