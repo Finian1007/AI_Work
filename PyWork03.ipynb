{
 "cells": [
  {
   "cell_type": "markdown",
   "metadata": {},
   "source": [
    "利用蒙地卡羅模擬做選擇權評價"
   ]
  },
  {
   "cell_type": "code",
   "execution_count": 1,
   "metadata": {},
   "outputs": [],
   "source": [
    "from scipy.stats import norm\n",
    "from numpy import exp, mean"
   ]
  },
  {
   "cell_type": "code",
   "execution_count": 2,
   "metadata": {},
   "outputs": [],
   "source": [
    "# 假設股價走勢服從Brownian Motion Process\n",
    "# X(0) = X0 & X(t + dt) = X(t) + N(0, sigma**2 * dt)\n",
    "\n",
    "def MonteCarloSimulation(Type, sigma, SimulationTimes, S, K, r, T=1, dt=1/365):\n",
    "    Collector = []\n",
    "    steps = int(T/dt)\n",
    "    for i in range(SimulationTimes):\n",
    "        BrownianMotionProcess = []\n",
    "        for j in range(steps):\n",
    "            S += norm.rvs(scale = sigma**2 * dt)\n",
    "            BrownianMotionProcess.append(S)\n",
    "        if Type == \"Call\":\n",
    "            IntrinsicValue = max(BrownianMotionProcess[-1] - K, 0)\n",
    "        elif Type == \"Put\":\n",
    "            IntrinsicValue = max(K - BrownianMotionProcess[-1], 0)\n",
    "        Collector.append(IntrinsicValue)\n",
    "    return mean(Collector) * exp(-r * T)"
   ]
  },
  {
   "cell_type": "code",
   "execution_count": 4,
   "metadata": {},
   "outputs": [
    {
     "data": {
      "text/plain": [
       "14.852198417086576"
      ]
     },
     "execution_count": 4,
     "metadata": {},
     "output_type": "execute_result"
    }
   ],
   "source": [
    "MonteCarloSimulation(\"Call\", 0.07, 1000, 50, 35, 0.01)"
   ]
  },
  {
   "cell_type": "code",
   "execution_count": null,
   "metadata": {},
   "outputs": [],
   "source": []
  }
 ],
 "metadata": {
  "kernelspec": {
   "display_name": "Python 3",
   "language": "python",
   "name": "python3"
  },
  "language_info": {
   "codemirror_mode": {
    "name": "ipython",
    "version": 3
   },
   "file_extension": ".py",
   "mimetype": "text/x-python",
   "name": "python",
   "nbconvert_exporter": "python",
   "pygments_lexer": "ipython3",
   "version": "3.7.6"
  }
 },
 "nbformat": 4,
 "nbformat_minor": 4
}
