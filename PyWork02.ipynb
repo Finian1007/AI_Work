{
 "cells": [
  {
   "cell_type": "markdown",
   "metadata": {},
   "source": [
    "兩期二項式定價模型"
   ]
  },
  {
   "cell_type": "code",
   "execution_count": 1,
   "metadata": {},
   "outputs": [],
   "source": [
    "from numpy import exp\n",
    "from numpy.lib.scimath import sqrt"
   ]
  },
  {
   "cell_type": "code",
   "execution_count": 2,
   "metadata": {},
   "outputs": [],
   "source": [
    "def European_CRR_Model(Type, S, K, r, sigma, T, Period=2):\n",
    "    \"\"\"Period為期數，暫時設計為兩期\"\"\"\n",
    "    discountFactor = exp(r * (T/Period))\n",
    "    u = exp(sigma * sqrt(T/Period))\n",
    "    d = 1/u\n",
    "    p = (discountFactor - d)/(u-d)\n",
    "    if Type == \"Call\":\n",
    "        OptionValue = [max(S*u*u-K,0), max(S*u*d-K,0), max(S*d*d-K,0)]\n",
    "        CallPrice = discountFactor**(-Period) * (p**2 * OptionValue[0] + 2 * p * (1-p) * OptionValue[1] + (1-p)**2 * OptionValue[2])\n",
    "        return CallPrice\n",
    "    elif Type == \"Put\":\n",
    "        OptionValue = [max(K-S*u*u,0), max(K-S*u*d,0), max(K-S*d*d,0)]\n",
    "        PutPrice = discountFactor**(-Period) * (p**2 * OptionValue[0] + 2 * p * (1-p) * OptionValue[1] + (1-p)**2 * OptionValue[2])\n",
    "        return(PutPrice)"
   ]
  },
  {
   "cell_type": "code",
   "execution_count": 3,
   "metadata": {},
   "outputs": [
    {
     "data": {
      "text/plain": [
       "1.4364410418586029"
      ]
     },
     "execution_count": 3,
     "metadata": {},
     "output_type": "execute_result"
    }
   ],
   "source": [
    "European_CRR_Model(\"Put\", 50, 52, 0.05, 0.1, 2)"
   ]
  },
  {
   "cell_type": "code",
   "execution_count": null,
   "metadata": {},
   "outputs": [],
   "source": []
  }
 ],
 "metadata": {
  "kernelspec": {
   "display_name": "Python 3",
   "language": "python",
   "name": "python3"
  },
  "language_info": {
   "codemirror_mode": {
    "name": "ipython",
    "version": 3
   },
   "file_extension": ".py",
   "mimetype": "text/x-python",
   "name": "python",
   "nbconvert_exporter": "python",
   "pygments_lexer": "ipython3",
   "version": "3.7.6"
  }
 },
 "nbformat": 4,
 "nbformat_minor": 4
}
