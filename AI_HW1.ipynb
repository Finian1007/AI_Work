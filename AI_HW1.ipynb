{
 "cells": [
  {
   "cell_type": "code",
   "execution_count": 1,
   "metadata": {},
   "outputs": [],
   "source": [
    "%matplotlib inline\n",
    "\n",
    "import pandas as pd\n",
    "import numpy as np\n",
    "import matplotlib.pyplot as plt"
   ]
  },
  {
   "cell_type": "code",
   "execution_count": 2,
   "metadata": {
    "scrolled": false
   },
   "outputs": [
    {
     "data": {
      "text/html": [
       "<div>\n",
       "<style scoped>\n",
       "    .dataframe tbody tr th:only-of-type {\n",
       "        vertical-align: middle;\n",
       "    }\n",
       "\n",
       "    .dataframe tbody tr th {\n",
       "        vertical-align: top;\n",
       "    }\n",
       "\n",
       "    .dataframe thead th {\n",
       "        text-align: right;\n",
       "    }\n",
       "</style>\n",
       "<table border=\"1\" class=\"dataframe\">\n",
       "  <thead>\n",
       "    <tr style=\"text-align: right;\">\n",
       "      <th></th>\n",
       "      <th>股票名稱</th>\n",
       "      <th>日期</th>\n",
       "      <th>日報酬率(%)</th>\n",
       "    </tr>\n",
       "  </thead>\n",
       "  <tbody>\n",
       "    <tr>\n",
       "      <th>0</th>\n",
       "      <td>2327 國巨</td>\n",
       "      <td>2019/3/4</td>\n",
       "      <td>1.0116</td>\n",
       "    </tr>\n",
       "    <tr>\n",
       "      <th>1</th>\n",
       "      <td>2327 國巨</td>\n",
       "      <td>2019/3/5</td>\n",
       "      <td>-2.7182</td>\n",
       "    </tr>\n",
       "    <tr>\n",
       "      <th>2</th>\n",
       "      <td>2327 國巨</td>\n",
       "      <td>2019/3/6</td>\n",
       "      <td>-0.1471</td>\n",
       "    </tr>\n",
       "    <tr>\n",
       "      <th>3</th>\n",
       "      <td>2327 國巨</td>\n",
       "      <td>2019/3/7</td>\n",
       "      <td>-1.0309</td>\n",
       "    </tr>\n",
       "    <tr>\n",
       "      <th>4</th>\n",
       "      <td>2327 國巨</td>\n",
       "      <td>2019/3/8</td>\n",
       "      <td>0.1488</td>\n",
       "    </tr>\n",
       "    <tr>\n",
       "      <th>...</th>\n",
       "      <td>...</td>\n",
       "      <td>...</td>\n",
       "      <td>...</td>\n",
       "    </tr>\n",
       "    <tr>\n",
       "      <th>1210</th>\n",
       "      <td>5876 上海商銀</td>\n",
       "      <td>2020/2/24</td>\n",
       "      <td>-2.1154</td>\n",
       "    </tr>\n",
       "    <tr>\n",
       "      <th>1211</th>\n",
       "      <td>5876 上海商銀</td>\n",
       "      <td>2020/2/25</td>\n",
       "      <td>0.0000</td>\n",
       "    </tr>\n",
       "    <tr>\n",
       "      <th>1212</th>\n",
       "      <td>5876 上海商銀</td>\n",
       "      <td>2020/2/26</td>\n",
       "      <td>-0.3929</td>\n",
       "    </tr>\n",
       "    <tr>\n",
       "      <th>1213</th>\n",
       "      <td>5876 上海商銀</td>\n",
       "      <td>2020/2/27</td>\n",
       "      <td>-0.7890</td>\n",
       "    </tr>\n",
       "    <tr>\n",
       "      <th>1214</th>\n",
       "      <td>5876 上海商銀</td>\n",
       "      <td>2020/3/2</td>\n",
       "      <td>-1.7893</td>\n",
       "    </tr>\n",
       "  </tbody>\n",
       "</table>\n",
       "<p>1215 rows × 3 columns</p>\n",
       "</div>"
      ],
      "text/plain": [
       "           股票名稱         日期  日報酬率(%)\n",
       "0       2327 國巨   2019/3/4   1.0116\n",
       "1       2327 國巨   2019/3/5  -2.7182\n",
       "2       2327 國巨   2019/3/6  -0.1471\n",
       "3       2327 國巨   2019/3/7  -1.0309\n",
       "4       2327 國巨   2019/3/8   0.1488\n",
       "...         ...        ...      ...\n",
       "1210  5876 上海商銀  2020/2/24  -2.1154\n",
       "1211  5876 上海商銀  2020/2/25   0.0000\n",
       "1212  5876 上海商銀  2020/2/26  -0.3929\n",
       "1213  5876 上海商銀  2020/2/27  -0.7890\n",
       "1214  5876 上海商銀   2020/3/2  -1.7893\n",
       "\n",
       "[1215 rows x 3 columns]"
      ]
     },
     "execution_count": 2,
     "metadata": {},
     "output_type": "execute_result"
    }
   ],
   "source": [
    "# 選擇國巨、台積電、聯發科、玉晶光以及上海商銀，來建構投資組合。\n",
    "# 日報酬率資料由TEJ取得，資料期間為一年，共計243個交易日。\n",
    "df_data = pd.read_csv('投資組合日報酬資料.csv', encoding = \"utf-8\")\n",
    "df_data"
   ]
  },
  {
   "cell_type": "code",
   "execution_count": 3,
   "metadata": {},
   "outputs": [],
   "source": [
    "interval = int(len(df_data)/5)\n",
    "r1 = df_data[\"日報酬率(%)\"][0:interval]\n",
    "r2 = df_data[\"日報酬率(%)\"][interval:2*interval]\n",
    "r3 = df_data[\"日報酬率(%)\"][2*interval:3*interval]\n",
    "r4 = df_data[\"日報酬率(%)\"][3*interval:4*interval]\n",
    "r5 = df_data[\"日報酬率(%)\"][4*interval::]\n",
    "\n",
    "#分別計算五檔個股243個交易日之平均日報酬，用來估計預期日報酬。\n",
    "r1mean = r1.mean()\n",
    "r2mean = r2.mean()\n",
    "r3mean = r3.mean()\n",
    "r4mean = r4.mean()\n",
    "r5mean = r5.mean()\n",
    "\n",
    "#計算五檔個股之共變異數矩陣\n",
    "v1 = r1.var()\n",
    "v2 = r2.var()\n",
    "v3 = r3.var()\n",
    "v4 = r4.var()\n",
    "v5 = r5.var()\n",
    "cv12 = np.cov(r1,r2)[0][1]\n",
    "cv13 = np.cov(r1,r3)[0][1]\n",
    "cv14 = np.cov(r1,r4)[0][1]\n",
    "cv15 = np.cov(r1,r5)[0][1]\n",
    "cv23 = np.cov(r2,r3)[0][1]\n",
    "cv24 = np.cov(r2,r4)[0][1]\n",
    "cv25 = np.cov(r2,r5)[0][1]\n",
    "cv34 = np.cov(r3,r4)[0][1]\n",
    "cv35 = np.cov(r3,r5)[0][1]\n",
    "cv45 = np.cov(r4,r5)[0][1]"
   ]
  },
  {
   "cell_type": "code",
   "execution_count": 5,
   "metadata": {},
   "outputs": [
    {
     "data": {
      "text/plain": [
       "array([[0.24657911, 0.22493243, 0.28244049, 0.24058997, 0.00545799],\n",
       "       [0.07623462, 0.09705833, 0.56448803, 0.0905545 , 0.17166452],\n",
       "       [0.5010948 , 0.11481336, 0.09762513, 0.11207042, 0.17439629],\n",
       "       ...,\n",
       "       [0.05203139, 0.22551712, 0.07625129, 0.34791252, 0.29828768],\n",
       "       [0.5135397 , 0.1894976 , 0.18889747, 0.00247681, 0.10558841],\n",
       "       [0.26269046, 0.32174738, 0.02875854, 0.36161964, 0.02518398]])"
      ]
     },
     "execution_count": 5,
     "metadata": {},
     "output_type": "execute_result"
    }
   ],
   "source": [
    "#Monte Carlo Simulation for Portfolio\n",
    "#產生10萬組和為1的5個權數\n",
    "SecurityNumber = 5\n",
    "Sum = 1\n",
    "a = np.random.dirichlet(np.ones(SecurityNumber),size=100000)*Sum\n",
    "a"
   ]
  },
  {
   "cell_type": "code",
   "execution_count": 6,
   "metadata": {},
   "outputs": [],
   "source": [
    "#分別計算十萬個投資組合之預期報酬與變異數\n",
    "portfolioReturn = []\n",
    "portfolioStandardDeviation = []\n",
    "for i in range(100000):\n",
    "    portfolioReturnValue = a[i][0]*r1mean + a[i][1]*r2mean + a[i][2]*r3mean + a[i][3]*r4mean + a[i][4]*r5mean\n",
    "    portfolioVarianceValue = a[i][0]*a[i][0]*v1 + a[i][1]*a[i][1]*v2 + a[i][2]*a[i][2]*v3 + a[i][3]*a[i][3]*v4 + a[i][4]*a[i][4]*v5 + 2*a[i][0]*a[i][1]*cv12 + \\\n",
    "    2*a[i][0]*a[i][2]*cv13 + 2*a[i][0]*a[i][3]*cv14+ 2*a[i][0]*a[i][4]*cv15 + 2*a[i][1]*a[i][2]*cv23+ 2*a[i][1]*a[i][3]*cv24+ 2*a[i][1]*a[i][4]*cv25\\\n",
    "    + 2*a[i][2]*a[i][3]*cv34 + 2*a[i][2]*a[i][4]*cv35+ 2*a[i][3]*a[i][4]*cv45\n",
    "    portfolioReturn.append(portfolioReturnValue)\n",
    "    portfolioStandardDeviation.append(portfolioVarianceValue**0.5)"
   ]
  },
  {
   "cell_type": "code",
   "execution_count": 7,
   "metadata": {},
   "outputs": [
    {
     "data": {
      "text/plain": [
       "Int64Index([78173], dtype='int64')"
      ]
     },
     "execution_count": 7,
     "metadata": {},
     "output_type": "execute_result"
    }
   ],
   "source": [
    "df = pd.DataFrame()\n",
    "df[\"portfolioReturn\"] = portfolioReturn\n",
    "df[\"portfolioSD\"] = portfolioStandardDeviation\n",
    "df[\"SharpeRatio\"] = df[\"portfolioReturn\"]/df[\"portfolioSD\"]\n",
    "df[df[\"SharpeRatio\"] == max(list(df[\"SharpeRatio\"]))].index"
   ]
  },
  {
   "cell_type": "code",
   "execution_count": 8,
   "metadata": {},
   "outputs": [
    {
     "data": {
      "text/plain": [
       "array([0.1499951 , 0.54056885, 0.25262761, 0.05084124, 0.0059672 ])"
      ]
     },
     "execution_count": 8,
     "metadata": {},
     "output_type": "execute_result"
    }
   ],
   "source": [
    "#本次模擬結果中，Sharpe Ratio最高之投資組合！\n",
    "portfolioReturnMAXSHARPE = portfolioReturn[78173]\n",
    "portfolioSDMAXSHARPE = portfolioStandardDeviation[78173]\n",
    "a[78173]"
   ]
  },
  {
   "cell_type": "code",
   "execution_count": 9,
   "metadata": {},
   "outputs": [
    {
     "data": {
      "text/plain": [
       "<matplotlib.legend.Legend at 0x118b8dfa0>"
      ]
     },
     "execution_count": 9,
     "metadata": {},
     "output_type": "execute_result"
    },
    {
     "data": {
      "image/png": "[encoded data removed]",
      "text/plain": [
       "<Figure size 432x288 with 1 Axes>"
      ]
     },
     "metadata": {
      "needs_background": "light"
     },
     "output_type": "display_data"
    }
   ],
   "source": [
    "#透過蒙地卡羅模擬投資組合權重，繪製出投資機會集合，並找到效率前緣所在，以及Sharpe Ratio最高的投資組合。\n",
    "plt.scatter(portfolioStandardDeviation,portfolioReturn)\n",
    "plt.scatter(portfolioSDMAXSHARPE, portfolioReturnMAXSHARPE, label='MAX Sharpe Ratio', marker='^', c='r', s = 150)\n",
    "plt.title(\"Monte Carlo Simulation Outcome\")\n",
    "plt.xlabel(\"Daily-Return Standard Deviation\")\n",
    "plt.ylabel(\"Expected Daily-Return\")\n",
    "plt.legend()"
   ]
  },
  {
   "cell_type": "code",
   "execution_count": null,
   "metadata": {},
   "outputs": [],
   "source": []
  }
 ],
 "metadata": {
  "kernelspec": {
   "display_name": "Python 3",
   "language": "python",
   "name": "python3"
  },
  "language_info": {
   "codemirror_mode": {
    "name": "ipython",
    "version": 3
   },
   "file_extension": ".py",
   "mimetype": "text/x-python",
   "name": "python",
   "nbconvert_exporter": "python",
   "pygments_lexer": "ipython3",
   "version": "3.8.1"
  }
 },
 "nbformat": 4,
 "nbformat_minor": 4
}
