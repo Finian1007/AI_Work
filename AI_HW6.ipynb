{
 "cells": [
  {
   "cell_type": "code",
   "execution_count": 1,
   "metadata": {},
   "outputs": [],
   "source": [
    "from tensorflow.keras.preprocessing import sequence\n",
    "from tensorflow.keras.models import Sequential\n",
    "from tensorflow.keras.layers import Dense, Embedding\n",
    "from tensorflow.keras.layers import LSTM\n",
    "from tensorflow.keras.datasets import imdb"
   ]
  },
  {
   "cell_type": "markdown",
   "metadata": {},
   "source": [
    "#### 本次作業嘗試做的參數調整如下\n",
    "1. 保留字詞數目調整為7000\n",
    "2. 每筆評論只看前50個字\n",
    "3. LSTM神經元調整為256\n",
    "4. dropout改為0.1\n",
    "5. batch size 設為 64\n",
    "6. epochs 設為 5"
   ]
  },
  {
   "cell_type": "markdown",
   "metadata": {},
   "source": [
    "### 讀入數據並觀察資料"
   ]
  },
  {
   "cell_type": "code",
   "execution_count": 2,
   "metadata": {},
   "outputs": [],
   "source": [
    "(x_train, y_train), (x_test, y_test) = imdb.load_data(num_words=7000)"
   ]
  },
  {
   "cell_type": "code",
   "execution_count": 3,
   "metadata": {},
   "outputs": [
    {
     "name": "stdout",
     "output_type": "stream",
     "text": [
      "25000 25000\n"
     ]
    }
   ],
   "source": [
    "print(len(x_train), len(x_test))"
   ]
  },
  {
   "cell_type": "code",
   "execution_count": 4,
   "metadata": {},
   "outputs": [
    {
     "data": {
      "text/plain": [
       "[1,\n",
       " 1593,\n",
       " 2,\n",
       " 2861,\n",
       " 5838,\n",
       " 5162,\n",
       " 2,\n",
       " 5,\n",
       " 4,\n",
       " 522,\n",
       " 2,\n",
       " 2,\n",
       " 26,\n",
       " 4,\n",
       " 406,\n",
       " 381,\n",
       " 7,\n",
       " 14,\n",
       " 20,\n",
       " 44,\n",
       " 6,\n",
       " 185,\n",
       " 132,\n",
       " 267,\n",
       " 18,\n",
       " 2757,\n",
       " 44,\n",
       " 27,\n",
       " 5842,\n",
       " 341,\n",
       " 443,\n",
       " 2,\n",
       " 443,\n",
       " 2,\n",
       " 5,\n",
       " 443,\n",
       " 2,\n",
       " 32,\n",
       " 471,\n",
       " 11,\n",
       " 86,\n",
       " 967,\n",
       " 354,\n",
       " 11,\n",
       " 68,\n",
       " 5489,\n",
       " 555,\n",
       " 1563,\n",
       " 5838,\n",
       " 47,\n",
       " 4,\n",
       " 1076,\n",
       " 329,\n",
       " 74,\n",
       " 2,\n",
       " 2790,\n",
       " 7,\n",
       " 269,\n",
       " 8,\n",
       " 6711,\n",
       " 56,\n",
       " 6,\n",
       " 93,\n",
       " 18,\n",
       " 248,\n",
       " 20,\n",
       " 1784,\n",
       " 677,\n",
       " 153,\n",
       " 596,\n",
       " 34,\n",
       " 2,\n",
       " 4,\n",
       " 383,\n",
       " 602,\n",
       " 11,\n",
       " 35,\n",
       " 900,\n",
       " 2,\n",
       " 22,\n",
       " 4,\n",
       " 147,\n",
       " 323,\n",
       " 190,\n",
       " 9,\n",
       " 4,\n",
       " 2642,\n",
       " 554,\n",
       " 6,\n",
       " 6786,\n",
       " 2108,\n",
       " 2,\n",
       " 4902,\n",
       " 39,\n",
       " 3273,\n",
       " 2,\n",
       " 276,\n",
       " 159,\n",
       " 6,\n",
       " 370,\n",
       " 5,\n",
       " 348,\n",
       " 6,\n",
       " 2,\n",
       " 2,\n",
       " 563,\n",
       " 4,\n",
       " 529,\n",
       " 2,\n",
       " 2,\n",
       " 5,\n",
       " 2412,\n",
       " 4,\n",
       " 1289,\n",
       " 7,\n",
       " 4,\n",
       " 2224,\n",
       " 19,\n",
       " 2,\n",
       " 5541,\n",
       " 10,\n",
       " 10,\n",
       " 4,\n",
       " 206,\n",
       " 139,\n",
       " 26,\n",
       " 2093,\n",
       " 261,\n",
       " 49,\n",
       " 7,\n",
       " 4,\n",
       " 807,\n",
       " 9,\n",
       " 6,\n",
       " 227,\n",
       " 835,\n",
       " 231,\n",
       " 18,\n",
       " 6,\n",
       " 478,\n",
       " 2,\n",
       " 2,\n",
       " 14,\n",
       " 9,\n",
       " 89,\n",
       " 32,\n",
       " 519,\n",
       " 102,\n",
       " 144,\n",
       " 30,\n",
       " 93,\n",
       " 10,\n",
       " 10,\n",
       " 353,\n",
       " 8,\n",
       " 1277,\n",
       " 14,\n",
       " 31,\n",
       " 23,\n",
       " 4,\n",
       " 522,\n",
       " 20,\n",
       " 1308,\n",
       " 45,\n",
       " 73,\n",
       " 290,\n",
       " 4,\n",
       " 1049,\n",
       " 1666]"
      ]
     },
     "execution_count": 4,
     "metadata": {},
     "output_type": "execute_result"
    }
   ],
   "source": [
    "x_train[1007]"
   ]
  },
  {
   "cell_type": "code",
   "execution_count": 5,
   "metadata": {},
   "outputs": [
    {
     "data": {
      "text/plain": [
       "1"
      ]
     },
     "execution_count": 5,
     "metadata": {},
     "output_type": "execute_result"
    }
   ],
   "source": [
    "y_train[1007]"
   ]
  },
  {
   "cell_type": "markdown",
   "metadata": {},
   "source": [
    "### 資料處理"
   ]
  },
  {
   "cell_type": "code",
   "execution_count": 7,
   "metadata": {},
   "outputs": [],
   "source": [
    "x_train = sequence.pad_sequences(x_train, maxlen=50) \n",
    "x_test = sequence.pad_sequences(x_test, maxlen=50)"
   ]
  },
  {
   "cell_type": "markdown",
   "metadata": {},
   "source": [
    "### 打造函數學習機"
   ]
  },
  {
   "cell_type": "code",
   "execution_count": 8,
   "metadata": {},
   "outputs": [],
   "source": [
    "model = Sequential()"
   ]
  },
  {
   "cell_type": "code",
   "execution_count": 9,
   "metadata": {},
   "outputs": [],
   "source": [
    "model.add(Embedding(7000, 128))"
   ]
  },
  {
   "cell_type": "code",
   "execution_count": 10,
   "metadata": {},
   "outputs": [],
   "source": [
    "model.add(LSTM(256, dropout=0.1, recurrent_dropout=0.1))"
   ]
  },
  {
   "cell_type": "code",
   "execution_count": 11,
   "metadata": {},
   "outputs": [],
   "source": [
    "model.add(Dense(1, activation=\"sigmoid\"))"
   ]
  },
  {
   "cell_type": "code",
   "execution_count": 12,
   "metadata": {},
   "outputs": [],
   "source": [
    "model.compile(loss=\"binary_crossentropy\", optimizer=\"adam\", metrics=[\"accuracy\"])"
   ]
  },
  {
   "cell_type": "code",
   "execution_count": 13,
   "metadata": {},
   "outputs": [
    {
     "name": "stdout",
     "output_type": "stream",
     "text": [
      "Model: \"sequential\"\n",
      "_________________________________________________________________\n",
      "Layer (type)                 Output Shape              Param #   \n",
      "=================================================================\n",
      "embedding (Embedding)        (None, None, 128)         896000    \n",
      "_________________________________________________________________\n",
      "lstm (LSTM)                  (None, 256)               394240    \n",
      "_________________________________________________________________\n",
      "dense (Dense)                (None, 1)                 257       \n",
      "=================================================================\n",
      "Total params: 1,290,497\n",
      "Trainable params: 1,290,497\n",
      "Non-trainable params: 0\n",
      "_________________________________________________________________\n"
     ]
    }
   ],
   "source": [
    "model.summary()"
   ]
  },
  {
   "cell_type": "code",
   "execution_count": 19,
   "metadata": {},
   "outputs": [
    {
     "data": {
      "text/plain": [
       "394240"
      ]
     },
     "execution_count": 19,
     "metadata": {},
     "output_type": "execute_result"
    }
   ],
   "source": [
    "(128 + 256 + 1) * (3 + 1) * 256"
   ]
  },
  {
   "cell_type": "markdown",
   "metadata": {},
   "source": [
    "### 訓練"
   ]
  },
  {
   "cell_type": "code",
   "execution_count": 20,
   "metadata": {},
   "outputs": [
    {
     "name": "stdout",
     "output_type": "stream",
     "text": [
      "Train on 25000 samples, validate on 25000 samples\n",
      "Epoch 1/5\n",
      "25000/25000 [==============================] - 78s 3ms/sample - loss: 0.4908 - accuracy: 0.7544 - val_loss: 0.3972 - val_accuracy: 0.8202\n",
      "Epoch 2/5\n",
      "25000/25000 [==============================] - 78s 3ms/sample - loss: 0.3555 - accuracy: 0.8442 - val_loss: 0.3976 - val_accuracy: 0.8193\n",
      "Epoch 3/5\n",
      "25000/25000 [==============================] - 80s 3ms/sample - loss: 0.2931 - accuracy: 0.8730 - val_loss: 0.4329 - val_accuracy: 0.8044\n",
      "Epoch 4/5\n",
      "25000/25000 [==============================] - 80s 3ms/sample - loss: 0.2346 - accuracy: 0.9038 - val_loss: 0.4994 - val_accuracy: 0.8034\n",
      "Epoch 5/5\n",
      "25000/25000 [==============================] - 81s 3ms/sample - loss: 0.1852 - accuracy: 0.9269 - val_loss: 0.5204 - val_accuracy: 0.7989\n"
     ]
    },
    {
     "data": {
      "text/plain": [
       "<tensorflow.python.keras.callbacks.History at 0x147f1bd10>"
      ]
     },
     "execution_count": 20,
     "metadata": {},
     "output_type": "execute_result"
    }
   ],
   "source": [
    "model.fit(x_train, y_train, batch_size = 64, epochs = 5,\n",
    "             validation_data=(x_test, y_test))"
   ]
  },
  {
   "cell_type": "code",
   "execution_count": null,
   "metadata": {},
   "outputs": [],
   "source": []
  }
 ],
 "metadata": {
  "kernelspec": {
   "display_name": "Python 3",
   "language": "python",
   "name": "python3"
  },
  "language_info": {
   "codemirror_mode": {
    "name": "ipython",
    "version": 3
   },
   "file_extension": ".py",
   "mimetype": "text/x-python",
   "name": "python",
   "nbconvert_exporter": "python",
   "pygments_lexer": "ipython3",
   "version": "3.7.6"
  }
 },
 "nbformat": 4,
 "nbformat_minor": 4
}
