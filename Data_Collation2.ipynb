{
  "nbformat": 4,
  "nbformat_minor": 0,
  "metadata": {
    "colab": {
      "name": "Data Collation2.ipynb",
      "provenance": [],
      "collapsed_sections": []
    },
    "kernelspec": {
      "name": "python3",
      "display_name": "Python 3"
    },
    "accelerator": "GPU"
  },
  "cells": [
    {
      "cell_type": "code",
      "metadata": {
        "id": "-bAi6SknrLI-",
        "colab_type": "code",
        "outputId": "3ef20b86-bd57-45d3-c59a-ebf5d7469bbb",
        "colab": {
          "base_uri": "https://localhost:8080/",
          "height": 34
        }
      },
      "source": [
        "from google.colab import drive\n",
        "drive.mount('/content/drive')"
      ],
      "execution_count": 65,
      "outputs": [
        {
          "output_type": "stream",
          "text": [
            "Drive already mounted at /content/drive; to attempt to forcibly remount, call drive.mount(\"/content/drive\", force_remount=True).\n"
          ],
          "name": "stdout"
        }
      ]
    },
    {
      "cell_type": "code",
      "metadata": {
        "id": "3AtCz2-Kg5L1",
        "colab_type": "code",
        "outputId": "e77021a0-8134-4836-cf8d-c4f3421ee9e0",
        "colab": {
          "base_uri": "https://localhost:8080/",
          "height": 199
        }
      },
      "source": [
        "import pandas as pd\n",
        "import numpy as np\n",
        "import matplotlib.pyplot as plt\n",
        "import matplotlib.image as img\n",
        "!pip install pillow\n",
        "!pip install mpl_finance\n",
        "import mpl_finance as mpf"
      ],
      "execution_count": 2,
      "outputs": [
        {
          "output_type": "stream",
          "text": [
            "Requirement already satisfied: pillow in /usr/local/lib/python3.6/dist-packages (7.0.0)\n",
            "Requirement already satisfied: mpl_finance in /usr/local/lib/python3.6/dist-packages (0.10.1)\n",
            "Requirement already satisfied: matplotlib in /usr/local/lib/python3.6/dist-packages (from mpl_finance) (3.2.1)\n",
            "Requirement already satisfied: python-dateutil>=2.1 in /usr/local/lib/python3.6/dist-packages (from matplotlib->mpl_finance) (2.8.1)\n",
            "Requirement already satisfied: numpy>=1.11 in /usr/local/lib/python3.6/dist-packages (from matplotlib->mpl_finance) (1.18.4)\n",
            "Requirement already satisfied: pyparsing!=2.0.4,!=2.1.2,!=2.1.6,>=2.0.1 in /usr/local/lib/python3.6/dist-packages (from matplotlib->mpl_finance) (2.4.7)\n",
            "Requirement already satisfied: cycler>=0.10 in /usr/local/lib/python3.6/dist-packages (from matplotlib->mpl_finance) (0.10.0)\n",
            "Requirement already satisfied: kiwisolver>=1.0.1 in /usr/local/lib/python3.6/dist-packages (from matplotlib->mpl_finance) (1.2.0)\n",
            "Requirement already satisfied: six>=1.5 in /usr/local/lib/python3.6/dist-packages (from python-dateutil>=2.1->matplotlib->mpl_finance) (1.12.0)\n"
          ],
          "name": "stdout"
        }
      ]
    },
    {
      "cell_type": "code",
      "metadata": {
        "id": "fK6d5nOD0XKf",
        "colab_type": "code",
        "outputId": "b8d850c4-6d0f-4c3f-9744-aa821203eafb",
        "colab": {
          "base_uri": "https://localhost:8080/",
          "height": 34
        }
      },
      "source": [
        "cd drive/My\\ Drive/AI Project Raw Data 2"
      ],
      "execution_count": 3,
      "outputs": [
        {
          "output_type": "stream",
          "text": [
            "/content/drive/My Drive/AI Project Raw Data 2\n"
          ],
          "name": "stdout"
        }
      ]
    },
    {
      "cell_type": "markdown",
      "metadata": {
        "id": "bzXwZVqfEOY0",
        "colab_type": "text"
      },
      "source": [
        "簡單測試讀檔、畫圖、存圖片以及轉成RGB 3 channels的matrix"
      ]
    },
    {
      "cell_type": "code",
      "metadata": {
        "id": "HVCiwdPbuBIG",
        "colab_type": "code",
        "outputId": "841d6245-2586-4f9f-d820-d486fd8c88b0",
        "colab": {
          "base_uri": "https://localhost:8080/",
          "height": 359
        }
      },
      "source": [
        "# df = pd.read_csv('/content/drive/My Drive/AI Project Raw Data/USDCNHXXX.csv'), if u dont change depository as above.\n",
        "df = pd.read_csv(\"USDCNHXXX.csv\")\n",
        "df.head(10)"
      ],
      "execution_count": 8,
      "outputs": [
        {
          "output_type": "execute_result",
          "data": {
            "text/html": [
              "<div>\n",
              "<style scoped>\n",
              "    .dataframe tbody tr th:only-of-type {\n",
              "        vertical-align: middle;\n",
              "    }\n",
              "\n",
              "    .dataframe tbody tr th {\n",
              "        vertical-align: top;\n",
              "    }\n",
              "\n",
              "    .dataframe thead th {\n",
              "        text-align: right;\n",
              "    }\n",
              "</style>\n",
              "<table border=\"1\" class=\"dataframe\">\n",
              "  <thead>\n",
              "    <tr style=\"text-align: right;\">\n",
              "      <th></th>\n",
              "      <th>Date</th>\n",
              "      <th>Time</th>\n",
              "      <th>Open</th>\n",
              "      <th>High</th>\n",
              "      <th>Low</th>\n",
              "      <th>Close</th>\n",
              "    </tr>\n",
              "  </thead>\n",
              "  <tbody>\n",
              "    <tr>\n",
              "      <th>0</th>\n",
              "      <td>2017/01/02</td>\n",
              "      <td>06:07:00</td>\n",
              "      <td>6.96256</td>\n",
              "      <td>6.96260</td>\n",
              "      <td>6.96256</td>\n",
              "      <td>6.96260</td>\n",
              "    </tr>\n",
              "    <tr>\n",
              "      <th>1</th>\n",
              "      <td>2017/01/02</td>\n",
              "      <td>06:08:00</td>\n",
              "      <td>6.96256</td>\n",
              "      <td>6.96260</td>\n",
              "      <td>6.94865</td>\n",
              "      <td>6.96260</td>\n",
              "    </tr>\n",
              "    <tr>\n",
              "      <th>2</th>\n",
              "      <td>2017/01/02</td>\n",
              "      <td>06:14:00</td>\n",
              "      <td>6.96260</td>\n",
              "      <td>6.96260</td>\n",
              "      <td>6.96260</td>\n",
              "      <td>6.96260</td>\n",
              "    </tr>\n",
              "    <tr>\n",
              "      <th>3</th>\n",
              "      <td>2017/01/02</td>\n",
              "      <td>06:19:00</td>\n",
              "      <td>6.96260</td>\n",
              "      <td>6.96260</td>\n",
              "      <td>6.96260</td>\n",
              "      <td>6.96260</td>\n",
              "    </tr>\n",
              "    <tr>\n",
              "      <th>4</th>\n",
              "      <td>2017/01/02</td>\n",
              "      <td>06:33:00</td>\n",
              "      <td>6.96255</td>\n",
              "      <td>6.96255</td>\n",
              "      <td>6.95680</td>\n",
              "      <td>6.95680</td>\n",
              "    </tr>\n",
              "    <tr>\n",
              "      <th>5</th>\n",
              "      <td>2017/01/02</td>\n",
              "      <td>06:37:00</td>\n",
              "      <td>6.96260</td>\n",
              "      <td>6.96260</td>\n",
              "      <td>6.96260</td>\n",
              "      <td>6.96260</td>\n",
              "    </tr>\n",
              "    <tr>\n",
              "      <th>6</th>\n",
              "      <td>2017/01/02</td>\n",
              "      <td>06:39:00</td>\n",
              "      <td>6.96256</td>\n",
              "      <td>6.96256</td>\n",
              "      <td>6.95680</td>\n",
              "      <td>6.95680</td>\n",
              "    </tr>\n",
              "    <tr>\n",
              "      <th>7</th>\n",
              "      <td>2017/01/02</td>\n",
              "      <td>07:02:00</td>\n",
              "      <td>6.95683</td>\n",
              "      <td>6.95683</td>\n",
              "      <td>6.95683</td>\n",
              "      <td>6.95683</td>\n",
              "    </tr>\n",
              "    <tr>\n",
              "      <th>8</th>\n",
              "      <td>2017/01/02</td>\n",
              "      <td>07:08:00</td>\n",
              "      <td>6.95683</td>\n",
              "      <td>6.95683</td>\n",
              "      <td>6.95683</td>\n",
              "      <td>6.95683</td>\n",
              "    </tr>\n",
              "    <tr>\n",
              "      <th>9</th>\n",
              "      <td>2017/01/02</td>\n",
              "      <td>07:11:00</td>\n",
              "      <td>6.95683</td>\n",
              "      <td>6.95683</td>\n",
              "      <td>6.95683</td>\n",
              "      <td>6.95683</td>\n",
              "    </tr>\n",
              "  </tbody>\n",
              "</table>\n",
              "</div>"
            ],
            "text/plain": [
              "         Date      Time     Open     High      Low    Close\n",
              "0  2017/01/02  06:07:00  6.96256  6.96260  6.96256  6.96260\n",
              "1  2017/01/02  06:08:00  6.96256  6.96260  6.94865  6.96260\n",
              "2  2017/01/02  06:14:00  6.96260  6.96260  6.96260  6.96260\n",
              "3  2017/01/02  06:19:00  6.96260  6.96260  6.96260  6.96260\n",
              "4  2017/01/02  06:33:00  6.96255  6.96255  6.95680  6.95680\n",
              "5  2017/01/02  06:37:00  6.96260  6.96260  6.96260  6.96260\n",
              "6  2017/01/02  06:39:00  6.96256  6.96256  6.95680  6.95680\n",
              "7  2017/01/02  07:02:00  6.95683  6.95683  6.95683  6.95683\n",
              "8  2017/01/02  07:08:00  6.95683  6.95683  6.95683  6.95683\n",
              "9  2017/01/02  07:11:00  6.95683  6.95683  6.95683  6.95683"
            ]
          },
          "metadata": {
            "tags": []
          },
          "execution_count": 8
        }
      ]
    },
    {
      "cell_type": "code",
      "metadata": {
        "id": "Bran3EctUNst",
        "colab_type": "code",
        "colab": {}
      },
      "source": [
        "# for sake of finding optimal y absolute distance setting.\n",
        "for i in range(16746):\n",
        "  splitdf = df[60*i:60*(i+1)]\n",
        "  diff = max(splitdf[\"High\"]) - min(splitdf[\"Low\"])\n",
        "  if diff > 0.15:\n",
        "    print(\"stop\")\n",
        "    break"
      ],
      "execution_count": 0,
      "outputs": []
    },
    {
      "cell_type": "code",
      "metadata": {
        "id": "KGooZyRw9CF0",
        "colab_type": "code",
        "outputId": "9e30115f-42ca-45c9-d30e-c38a9cd33a78",
        "colab": {
          "base_uri": "https://localhost:8080/",
          "height": 103
        }
      },
      "source": [
        "df = df[0:70]\n",
        "#創建圖框\n",
        "# fig = plt.figure(figsize=(2, 2))\n",
        "fig = plt.gcf()\n",
        "ax = fig.add_subplot(1, 1, 1)\n",
        "fig.set_size_inches(1, 1)\n",
        "plt.gca().xaxis.set_major_locator(plt.NullLocator())\n",
        "plt.gca().yaxis.set_major_locator(plt.NullLocator())\n",
        "plt.subplots_adjust(top=1, bottom=0, right=1, left=0, hspace=0, wspace=0)\n",
        "plt.margins(0,0)\n",
        "#設定座標數量及所呈現文字\n",
        "ax.set_xticks(range(0, len(df.index), 10))\n",
        "ax.set_xticklabels(df.index[::10],rotation=90)\n",
        "#要將y的數值統一範圍 like ax.set_ylim(6.6,7.3) likewise\n",
        "plt.yticks(np.arange(min(df[\"Low\"]), max(df[\"High\"]), 0.0025))\n",
        "#使用mpl_finance套件candlestick2_ochl\n",
        "mpf.candlestick2_ochl(ax, df[\"Open\"], df[\"Close\"], df[\"High\"],df[\"Low\"], width=1, colorup=\"r\", colordown=\"g\", alpha=1)\n",
        "#存擋\n",
        "#since we have installed pillow, plt.savefig then can save file as jpg instead of raising ValueError.\n",
        "#reference: https://stackoverflow.com/questions/8827016/matplotlib-savefig-in-jpeg-format\n",
        "plt.axis('off')\n",
        "plt.savefig(\"test.jpg\")"
      ],
      "execution_count": 10,
      "outputs": [
        {
          "output_type": "display_data",
          "data": {
            "image/png": "[encoded data removed]",
            "text/plain": [
              "<Figure size 72x72 with 1 Axes>"
            ]
          },
          "metadata": {
            "tags": [],
            "needs_background": "light"
          }
        }
      ]
    },
    {
      "cell_type": "code",
      "metadata": {
        "id": "xGe_7p3izbjF",
        "colab_type": "code",
        "colab": {}
      },
      "source": [
        "#convert image to RGB 3 channels\n",
        "#reference: https://stackoverflow.com/questions/3493092/convert-image-to-a-matrix-in-python\n",
        "image = img.imread(\"test.jpg\")"
      ],
      "execution_count": 0,
      "outputs": []
    },
    {
      "cell_type": "code",
      "metadata": {
        "id": "BcCmhLDs_xxd",
        "colab_type": "code",
        "outputId": "54abfc24-aea0-4680-8b4e-2e1e417185cd",
        "colab": {
          "base_uri": "https://localhost:8080/",
          "height": 34
        }
      },
      "source": [
        "image.shape"
      ],
      "execution_count": 12,
      "outputs": [
        {
          "output_type": "execute_result",
          "data": {
            "text/plain": [
              "(72, 72, 3)"
            ]
          },
          "metadata": {
            "tags": []
          },
          "execution_count": 12
        }
      ]
    },
    {
      "cell_type": "markdown",
      "metadata": {
        "id": "6IbC6eniEojG",
        "colab_type": "text"
      },
      "source": [
        "正式定義函式來做圖片存檔"
      ]
    },
    {
      "cell_type": "code",
      "metadata": {
        "id": "EsGtNsqeCJdr",
        "colab_type": "code",
        "outputId": "ae9a26b8-720d-4dba-f640-247812501a61",
        "colab": {
          "base_uri": "https://localhost:8080/",
          "height": 359
        }
      },
      "source": [
        "# df = pd.read_csv('/content/drive/My Drive/AI Project Raw Data/USDCNHXXX.csv'), if u dont change depository as above.\n",
        "df = pd.read_csv(\"USDCNHXXX.csv\")\n",
        "df.head(10)\n",
        "# print(len(df)) 1004762"
      ],
      "execution_count": 0,
      "outputs": [
        {
          "output_type": "execute_result",
          "data": {
            "text/html": [
              "<div>\n",
              "<style scoped>\n",
              "    .dataframe tbody tr th:only-of-type {\n",
              "        vertical-align: middle;\n",
              "    }\n",
              "\n",
              "    .dataframe tbody tr th {\n",
              "        vertical-align: top;\n",
              "    }\n",
              "\n",
              "    .dataframe thead th {\n",
              "        text-align: right;\n",
              "    }\n",
              "</style>\n",
              "<table border=\"1\" class=\"dataframe\">\n",
              "  <thead>\n",
              "    <tr style=\"text-align: right;\">\n",
              "      <th></th>\n",
              "      <th>Date</th>\n",
              "      <th>Time</th>\n",
              "      <th>Open</th>\n",
              "      <th>High</th>\n",
              "      <th>Low</th>\n",
              "      <th>Close</th>\n",
              "    </tr>\n",
              "  </thead>\n",
              "  <tbody>\n",
              "    <tr>\n",
              "      <th>0</th>\n",
              "      <td>2017/01/02</td>\n",
              "      <td>06:07:00</td>\n",
              "      <td>6.96256</td>\n",
              "      <td>6.96260</td>\n",
              "      <td>6.96256</td>\n",
              "      <td>6.96260</td>\n",
              "    </tr>\n",
              "    <tr>\n",
              "      <th>1</th>\n",
              "      <td>2017/01/02</td>\n",
              "      <td>06:08:00</td>\n",
              "      <td>6.96256</td>\n",
              "      <td>6.96260</td>\n",
              "      <td>6.94865</td>\n",
              "      <td>6.96260</td>\n",
              "    </tr>\n",
              "    <tr>\n",
              "      <th>2</th>\n",
              "      <td>2017/01/02</td>\n",
              "      <td>06:14:00</td>\n",
              "      <td>6.96260</td>\n",
              "      <td>6.96260</td>\n",
              "      <td>6.96260</td>\n",
              "      <td>6.96260</td>\n",
              "    </tr>\n",
              "    <tr>\n",
              "      <th>3</th>\n",
              "      <td>2017/01/02</td>\n",
              "      <td>06:19:00</td>\n",
              "      <td>6.96260</td>\n",
              "      <td>6.96260</td>\n",
              "      <td>6.96260</td>\n",
              "      <td>6.96260</td>\n",
              "    </tr>\n",
              "    <tr>\n",
              "      <th>4</th>\n",
              "      <td>2017/01/02</td>\n",
              "      <td>06:33:00</td>\n",
              "      <td>6.96255</td>\n",
              "      <td>6.96255</td>\n",
              "      <td>6.95680</td>\n",
              "      <td>6.95680</td>\n",
              "    </tr>\n",
              "    <tr>\n",
              "      <th>5</th>\n",
              "      <td>2017/01/02</td>\n",
              "      <td>06:37:00</td>\n",
              "      <td>6.96260</td>\n",
              "      <td>6.96260</td>\n",
              "      <td>6.96260</td>\n",
              "      <td>6.96260</td>\n",
              "    </tr>\n",
              "    <tr>\n",
              "      <th>6</th>\n",
              "      <td>2017/01/02</td>\n",
              "      <td>06:39:00</td>\n",
              "      <td>6.96256</td>\n",
              "      <td>6.96256</td>\n",
              "      <td>6.95680</td>\n",
              "      <td>6.95680</td>\n",
              "    </tr>\n",
              "    <tr>\n",
              "      <th>7</th>\n",
              "      <td>2017/01/02</td>\n",
              "      <td>07:02:00</td>\n",
              "      <td>6.95683</td>\n",
              "      <td>6.95683</td>\n",
              "      <td>6.95683</td>\n",
              "      <td>6.95683</td>\n",
              "    </tr>\n",
              "    <tr>\n",
              "      <th>8</th>\n",
              "      <td>2017/01/02</td>\n",
              "      <td>07:08:00</td>\n",
              "      <td>6.95683</td>\n",
              "      <td>6.95683</td>\n",
              "      <td>6.95683</td>\n",
              "      <td>6.95683</td>\n",
              "    </tr>\n",
              "    <tr>\n",
              "      <th>9</th>\n",
              "      <td>2017/01/02</td>\n",
              "      <td>07:11:00</td>\n",
              "      <td>6.95683</td>\n",
              "      <td>6.95683</td>\n",
              "      <td>6.95683</td>\n",
              "      <td>6.95683</td>\n",
              "    </tr>\n",
              "  </tbody>\n",
              "</table>\n",
              "</div>"
            ],
            "text/plain": [
              "         Date      Time     Open     High      Low    Close\n",
              "0  2017/01/02  06:07:00  6.96256  6.96260  6.96256  6.96260\n",
              "1  2017/01/02  06:08:00  6.96256  6.96260  6.94865  6.96260\n",
              "2  2017/01/02  06:14:00  6.96260  6.96260  6.96260  6.96260\n",
              "3  2017/01/02  06:19:00  6.96260  6.96260  6.96260  6.96260\n",
              "4  2017/01/02  06:33:00  6.96255  6.96255  6.95680  6.95680\n",
              "5  2017/01/02  06:37:00  6.96260  6.96260  6.96260  6.96260\n",
              "6  2017/01/02  06:39:00  6.96256  6.96256  6.95680  6.95680\n",
              "7  2017/01/02  07:02:00  6.95683  6.95683  6.95683  6.95683\n",
              "8  2017/01/02  07:08:00  6.95683  6.95683  6.95683  6.95683\n",
              "9  2017/01/02  07:11:00  6.95683  6.95683  6.95683  6.95683"
            ]
          },
          "metadata": {
            "tags": []
          },
          "execution_count": 33
        }
      ]
    },
    {
      "cell_type": "code",
      "metadata": {
        "id": "rGi-Mz4rYUTq",
        "colab_type": "code",
        "outputId": "0d53517d-d737-4444-9ae9-6bccf0cc9f1c",
        "colab": {
          "base_uri": "https://localhost:8080/",
          "height": 34
        }
      },
      "source": [
        "# knowing 持平 的ratio，發現若以60分鐘為一張圖，持平的ratio在9%，故我們改變計劃，將持平列在下跌那一類，主要是要捕捉上漲的動能！\n",
        "a = 0\n",
        "for i in df[df[\"T+1Path\"]==0].index.tolist():\n",
        "  if i%60 == 59:\n",
        "    a+=1\n",
        "print(a/16746)"
      ],
      "execution_count": 0,
      "outputs": [
        {
          "output_type": "stream",
          "text": [
            "0.08939448226442136\n"
          ],
          "name": "stdout"
        }
      ]
    },
    {
      "cell_type": "code",
      "metadata": {
        "id": "OxGxwy7sn3BX",
        "colab_type": "code",
        "outputId": "7f084c2a-fb7e-4d33-8b80-af9a6bc9bfbd",
        "colab": {
          "base_uri": "https://localhost:8080/",
          "height": 359
        }
      },
      "source": [
        "# 把 t+1 上漲、持平還是下跌用1/0/-1表示，此為version1。 改成將0丟到下跌區，並另外存成一個檔案version2.\n",
        "nextMinUpDown = []\n",
        "for i in range(len(df)-1):\n",
        "  if df[\"Close\"][i+1] > df[\"Close\"][i]:\n",
        "    nextMinUpDown.append(1)\n",
        "  elif df[\"Close\"][i+1] <= df[\"Close\"][i]:\n",
        "    nextMinUpDown.append(0)\n",
        "  # else:\n",
        "  #   nextMinUpDown.append(0)\n",
        "nextMinUpDown.append(float(\"NaN\"))\n",
        "df[\"T+1Path\"] = nextMinUpDown\n",
        "df.tail(10)"
      ],
      "execution_count": 0,
      "outputs": [
        {
          "output_type": "execute_result",
          "data": {
            "text/html": [
              "<div>\n",
              "<style scoped>\n",
              "    .dataframe tbody tr th:only-of-type {\n",
              "        vertical-align: middle;\n",
              "    }\n",
              "\n",
              "    .dataframe tbody tr th {\n",
              "        vertical-align: top;\n",
              "    }\n",
              "\n",
              "    .dataframe thead th {\n",
              "        text-align: right;\n",
              "    }\n",
              "</style>\n",
              "<table border=\"1\" class=\"dataframe\">\n",
              "  <thead>\n",
              "    <tr style=\"text-align: right;\">\n",
              "      <th></th>\n",
              "      <th>Date</th>\n",
              "      <th>Time</th>\n",
              "      <th>Open</th>\n",
              "      <th>High</th>\n",
              "      <th>Low</th>\n",
              "      <th>Close</th>\n",
              "      <th>T+1Path</th>\n",
              "    </tr>\n",
              "  </thead>\n",
              "  <tbody>\n",
              "    <tr>\n",
              "      <th>1004752</th>\n",
              "      <td>2019/10/24</td>\n",
              "      <td>04:51:00</td>\n",
              "      <td>7.05951</td>\n",
              "      <td>7.05952</td>\n",
              "      <td>7.05951</td>\n",
              "      <td>7.05952</td>\n",
              "      <td>1.0</td>\n",
              "    </tr>\n",
              "    <tr>\n",
              "      <th>1004753</th>\n",
              "      <td>2019/10/24</td>\n",
              "      <td>04:52:00</td>\n",
              "      <td>7.05952</td>\n",
              "      <td>7.05957</td>\n",
              "      <td>7.05952</td>\n",
              "      <td>7.05957</td>\n",
              "      <td>0.0</td>\n",
              "    </tr>\n",
              "    <tr>\n",
              "      <th>1004754</th>\n",
              "      <td>2019/10/24</td>\n",
              "      <td>04:53:00</td>\n",
              "      <td>7.05957</td>\n",
              "      <td>7.05957</td>\n",
              "      <td>7.05951</td>\n",
              "      <td>7.05951</td>\n",
              "      <td>1.0</td>\n",
              "    </tr>\n",
              "    <tr>\n",
              "      <th>1004755</th>\n",
              "      <td>2019/10/24</td>\n",
              "      <td>04:54:00</td>\n",
              "      <td>7.05954</td>\n",
              "      <td>7.05954</td>\n",
              "      <td>7.05954</td>\n",
              "      <td>7.05954</td>\n",
              "      <td>1.0</td>\n",
              "    </tr>\n",
              "    <tr>\n",
              "      <th>1004756</th>\n",
              "      <td>2019/10/24</td>\n",
              "      <td>04:55:00</td>\n",
              "      <td>7.05957</td>\n",
              "      <td>7.05957</td>\n",
              "      <td>7.05957</td>\n",
              "      <td>7.05957</td>\n",
              "      <td>1.0</td>\n",
              "    </tr>\n",
              "    <tr>\n",
              "      <th>1004757</th>\n",
              "      <td>2019/10/24</td>\n",
              "      <td>04:56:00</td>\n",
              "      <td>7.05957</td>\n",
              "      <td>7.06007</td>\n",
              "      <td>7.05957</td>\n",
              "      <td>7.06007</td>\n",
              "      <td>0.0</td>\n",
              "    </tr>\n",
              "    <tr>\n",
              "      <th>1004758</th>\n",
              "      <td>2019/10/24</td>\n",
              "      <td>04:57:00</td>\n",
              "      <td>7.06007</td>\n",
              "      <td>7.06007</td>\n",
              "      <td>7.06006</td>\n",
              "      <td>7.06006</td>\n",
              "      <td>1.0</td>\n",
              "    </tr>\n",
              "    <tr>\n",
              "      <th>1004759</th>\n",
              "      <td>2019/10/24</td>\n",
              "      <td>04:58:00</td>\n",
              "      <td>7.06003</td>\n",
              "      <td>7.06038</td>\n",
              "      <td>7.05998</td>\n",
              "      <td>7.06038</td>\n",
              "      <td>0.0</td>\n",
              "    </tr>\n",
              "    <tr>\n",
              "      <th>1004760</th>\n",
              "      <td>2019/10/24</td>\n",
              "      <td>04:59:00</td>\n",
              "      <td>7.06025</td>\n",
              "      <td>7.06025</td>\n",
              "      <td>7.06010</td>\n",
              "      <td>7.06025</td>\n",
              "      <td>1.0</td>\n",
              "    </tr>\n",
              "    <tr>\n",
              "      <th>1004761</th>\n",
              "      <td>2019/10/24</td>\n",
              "      <td>05:00:00</td>\n",
              "      <td>7.06036</td>\n",
              "      <td>7.06036</td>\n",
              "      <td>7.06036</td>\n",
              "      <td>7.06036</td>\n",
              "      <td>NaN</td>\n",
              "    </tr>\n",
              "  </tbody>\n",
              "</table>\n",
              "</div>"
            ],
            "text/plain": [
              "               Date      Time     Open     High      Low    Close  T+1Path\n",
              "1004752  2019/10/24  04:51:00  7.05951  7.05952  7.05951  7.05952      1.0\n",
              "1004753  2019/10/24  04:52:00  7.05952  7.05957  7.05952  7.05957      0.0\n",
              "1004754  2019/10/24  04:53:00  7.05957  7.05957  7.05951  7.05951      1.0\n",
              "1004755  2019/10/24  04:54:00  7.05954  7.05954  7.05954  7.05954      1.0\n",
              "1004756  2019/10/24  04:55:00  7.05957  7.05957  7.05957  7.05957      1.0\n",
              "1004757  2019/10/24  04:56:00  7.05957  7.06007  7.05957  7.06007      0.0\n",
              "1004758  2019/10/24  04:57:00  7.06007  7.06007  7.06006  7.06006      1.0\n",
              "1004759  2019/10/24  04:58:00  7.06003  7.06038  7.05998  7.06038      0.0\n",
              "1004760  2019/10/24  04:59:00  7.06025  7.06025  7.06010  7.06025      1.0\n",
              "1004761  2019/10/24  05:00:00  7.06036  7.06036  7.06036  7.06036      NaN"
            ]
          },
          "metadata": {
            "tags": []
          },
          "execution_count": 34
        }
      ]
    },
    {
      "cell_type": "code",
      "metadata": {
        "id": "VxuwzJ4bx1NX",
        "colab_type": "code",
        "colab": {}
      },
      "source": [
        "df.to_csv(\"USDCNH_version2\")"
      ],
      "execution_count": 0,
      "outputs": []
    },
    {
      "cell_type": "code",
      "metadata": {
        "id": "KEp-9KwsacJ3",
        "colab_type": "code",
        "outputId": "e22f5c02-7f70-4176-85dd-996fe91b3e9f",
        "colab": {
          "base_uri": "https://localhost:8080/",
          "height": 359
        }
      },
      "source": [
        "df = pd.read_csv(\"USDCNH_version2\")\n",
        "df.head(10)"
      ],
      "execution_count": 4,
      "outputs": [
        {
          "output_type": "execute_result",
          "data": {
            "text/html": [
              "<div>\n",
              "<style scoped>\n",
              "    .dataframe tbody tr th:only-of-type {\n",
              "        vertical-align: middle;\n",
              "    }\n",
              "\n",
              "    .dataframe tbody tr th {\n",
              "        vertical-align: top;\n",
              "    }\n",
              "\n",
              "    .dataframe thead th {\n",
              "        text-align: right;\n",
              "    }\n",
              "</style>\n",
              "<table border=\"1\" class=\"dataframe\">\n",
              "  <thead>\n",
              "    <tr style=\"text-align: right;\">\n",
              "      <th></th>\n",
              "      <th>Unnamed: 0</th>\n",
              "      <th>Date</th>\n",
              "      <th>Time</th>\n",
              "      <th>Open</th>\n",
              "      <th>High</th>\n",
              "      <th>Low</th>\n",
              "      <th>Close</th>\n",
              "      <th>T+1Path</th>\n",
              "    </tr>\n",
              "  </thead>\n",
              "  <tbody>\n",
              "    <tr>\n",
              "      <th>0</th>\n",
              "      <td>0</td>\n",
              "      <td>2017/01/02</td>\n",
              "      <td>06:07:00</td>\n",
              "      <td>6.96256</td>\n",
              "      <td>6.96260</td>\n",
              "      <td>6.96256</td>\n",
              "      <td>6.96260</td>\n",
              "      <td>0.0</td>\n",
              "    </tr>\n",
              "    <tr>\n",
              "      <th>1</th>\n",
              "      <td>1</td>\n",
              "      <td>2017/01/02</td>\n",
              "      <td>06:08:00</td>\n",
              "      <td>6.96256</td>\n",
              "      <td>6.96260</td>\n",
              "      <td>6.94865</td>\n",
              "      <td>6.96260</td>\n",
              "      <td>0.0</td>\n",
              "    </tr>\n",
              "    <tr>\n",
              "      <th>2</th>\n",
              "      <td>2</td>\n",
              "      <td>2017/01/02</td>\n",
              "      <td>06:14:00</td>\n",
              "      <td>6.96260</td>\n",
              "      <td>6.96260</td>\n",
              "      <td>6.96260</td>\n",
              "      <td>6.96260</td>\n",
              "      <td>0.0</td>\n",
              "    </tr>\n",
              "    <tr>\n",
              "      <th>3</th>\n",
              "      <td>3</td>\n",
              "      <td>2017/01/02</td>\n",
              "      <td>06:19:00</td>\n",
              "      <td>6.96260</td>\n",
              "      <td>6.96260</td>\n",
              "      <td>6.96260</td>\n",
              "      <td>6.96260</td>\n",
              "      <td>0.0</td>\n",
              "    </tr>\n",
              "    <tr>\n",
              "      <th>4</th>\n",
              "      <td>4</td>\n",
              "      <td>2017/01/02</td>\n",
              "      <td>06:33:00</td>\n",
              "      <td>6.96255</td>\n",
              "      <td>6.96255</td>\n",
              "      <td>6.95680</td>\n",
              "      <td>6.95680</td>\n",
              "      <td>1.0</td>\n",
              "    </tr>\n",
              "    <tr>\n",
              "      <th>5</th>\n",
              "      <td>5</td>\n",
              "      <td>2017/01/02</td>\n",
              "      <td>06:37:00</td>\n",
              "      <td>6.96260</td>\n",
              "      <td>6.96260</td>\n",
              "      <td>6.96260</td>\n",
              "      <td>6.96260</td>\n",
              "      <td>0.0</td>\n",
              "    </tr>\n",
              "    <tr>\n",
              "      <th>6</th>\n",
              "      <td>6</td>\n",
              "      <td>2017/01/02</td>\n",
              "      <td>06:39:00</td>\n",
              "      <td>6.96256</td>\n",
              "      <td>6.96256</td>\n",
              "      <td>6.95680</td>\n",
              "      <td>6.95680</td>\n",
              "      <td>1.0</td>\n",
              "    </tr>\n",
              "    <tr>\n",
              "      <th>7</th>\n",
              "      <td>7</td>\n",
              "      <td>2017/01/02</td>\n",
              "      <td>07:02:00</td>\n",
              "      <td>6.95683</td>\n",
              "      <td>6.95683</td>\n",
              "      <td>6.95683</td>\n",
              "      <td>6.95683</td>\n",
              "      <td>0.0</td>\n",
              "    </tr>\n",
              "    <tr>\n",
              "      <th>8</th>\n",
              "      <td>8</td>\n",
              "      <td>2017/01/02</td>\n",
              "      <td>07:08:00</td>\n",
              "      <td>6.95683</td>\n",
              "      <td>6.95683</td>\n",
              "      <td>6.95683</td>\n",
              "      <td>6.95683</td>\n",
              "      <td>0.0</td>\n",
              "    </tr>\n",
              "    <tr>\n",
              "      <th>9</th>\n",
              "      <td>9</td>\n",
              "      <td>2017/01/02</td>\n",
              "      <td>07:11:00</td>\n",
              "      <td>6.95683</td>\n",
              "      <td>6.95683</td>\n",
              "      <td>6.95683</td>\n",
              "      <td>6.95683</td>\n",
              "      <td>0.0</td>\n",
              "    </tr>\n",
              "  </tbody>\n",
              "</table>\n",
              "</div>"
            ],
            "text/plain": [
              "   Unnamed: 0        Date      Time  ...      Low    Close  T+1Path\n",
              "0           0  2017/01/02  06:07:00  ...  6.96256  6.96260      0.0\n",
              "1           1  2017/01/02  06:08:00  ...  6.94865  6.96260      0.0\n",
              "2           2  2017/01/02  06:14:00  ...  6.96260  6.96260      0.0\n",
              "3           3  2017/01/02  06:19:00  ...  6.96260  6.96260      0.0\n",
              "4           4  2017/01/02  06:33:00  ...  6.95680  6.95680      1.0\n",
              "5           5  2017/01/02  06:37:00  ...  6.96260  6.96260      0.0\n",
              "6           6  2017/01/02  06:39:00  ...  6.95680  6.95680      1.0\n",
              "7           7  2017/01/02  07:02:00  ...  6.95683  6.95683      0.0\n",
              "8           8  2017/01/02  07:08:00  ...  6.95683  6.95683      0.0\n",
              "9           9  2017/01/02  07:11:00  ...  6.95683  6.95683      0.0\n",
              "\n",
              "[10 rows x 8 columns]"
            ]
          },
          "metadata": {
            "tags": []
          },
          "execution_count": 4
        }
      ]
    },
    {
      "cell_type": "code",
      "metadata": {
        "id": "Z_KpknGfE0sD",
        "colab_type": "code",
        "colab": {}
      },
      "source": [
        "def autoPlot(df, number):\n",
        "  #fig = plt.figure(figsize=(24, 8))\n",
        "  fig = plt.gcf()\n",
        "  ax = fig.add_subplot(1, 1, 1)\n",
        "  fig.set_size_inches(1, 1)\n",
        "  plt.gca().xaxis.set_major_locator(plt.NullLocator())\n",
        "  plt.gca().yaxis.set_major_locator(plt.NullLocator())\n",
        "  plt.subplots_adjust(top=1, bottom=0, right=1, left=0, hspace=0, wspace=0)\n",
        "  plt.margins(0,0)\n",
        "  plt.yticks(np.arange(min(df[\"Low\"]), max(df[\"High\"]), 0.0025))\n",
        "  mpf.candlestick2_ochl(ax, df[\"Open\"], df[\"Close\"], df[\"High\"],df[\"Low\"], width=0.6, colorup=\"r\", colordown=\"g\", alpha=1)\n",
        "  plt.axis(\"off\")\n",
        "  plt.savefig(\"{}.jpg\".format(number))\n",
        "\n",
        "  # Never show the fig cause we get so many fig to make\n",
        "  plt.close(fig)"
      ],
      "execution_count": 0,
      "outputs": []
    },
    {
      "cell_type": "code",
      "metadata": {
        "id": "gH8aWfoiHdYz",
        "colab_type": "code",
        "colab": {}
      },
      "source": [
        "# A for loop to save huge amount of pictures.\n",
        "for i in range(0, int(1004760/60)): #16746\n",
        "  autoPlot(df[60*i:60*(i+1)], i)"
      ],
      "execution_count": 0,
      "outputs": []
    },
    {
      "cell_type": "code",
      "metadata": {
        "id": "umR71VSOJJub",
        "colab_type": "code",
        "colab": {}
      },
      "source": [
        "for i in sorted(set(df[\"Date\"].tolist())):\n",
        "  print(len(df[df[\"Date\"] == i]))"
      ],
      "execution_count": 0,
      "outputs": []
    },
    {
      "cell_type": "code",
      "metadata": {
        "id": "YmQYgQDUNd3n",
        "colab_type": "code",
        "colab": {}
      },
      "source": [
        "sorted(set(df[\"Date\"].tolist()))"
      ],
      "execution_count": 0,
      "outputs": []
    },
    {
      "cell_type": "code",
      "metadata": {
        "id": "WqtciB2kzFXq",
        "colab_type": "code",
        "outputId": "3a65a525-82ee-478e-8317-b1d7f5aeb15a",
        "colab": {
          "base_uri": "https://localhost:8080/",
          "height": 306
        }
      },
      "source": [
        "x = []\n",
        "for i in range(16746):\n",
        "  image = img.imread(\"{}.jpg\".format(i))\n",
        "  x.append(image)\n",
        "  if i % 1000 == 0:\n",
        "    print(i)"
      ],
      "execution_count": 5,
      "outputs": [
        {
          "output_type": "stream",
          "text": [
            "0\n",
            "1000\n",
            "2000\n",
            "3000\n",
            "4000\n",
            "5000\n",
            "6000\n",
            "7000\n",
            "8000\n",
            "9000\n",
            "10000\n",
            "11000\n",
            "12000\n",
            "13000\n",
            "14000\n",
            "15000\n",
            "16000\n"
          ],
          "name": "stdout"
        }
      ]
    },
    {
      "cell_type": "code",
      "metadata": {
        "id": "8VP1L5KH2N_q",
        "colab_type": "code",
        "outputId": "1450b0ee-423a-4597-d186-ec65d9f0f5da",
        "colab": {
          "base_uri": "https://localhost:8080/",
          "height": 34
        }
      },
      "source": [
        "x = np.array(x)\n",
        "len(x)"
      ],
      "execution_count": 8,
      "outputs": [
        {
          "output_type": "execute_result",
          "data": {
            "text/plain": [
              "16746"
            ]
          },
          "metadata": {
            "tags": []
          },
          "execution_count": 8
        }
      ]
    },
    {
      "cell_type": "markdown",
      "metadata": {
        "id": "UAdIGD-Pjk2K",
        "colab_type": "text"
      },
      "source": [
        "圖片矩陣準備好了，準備訓練模型。"
      ]
    },
    {
      "cell_type": "code",
      "metadata": {
        "id": "135aP0shjlh2",
        "colab_type": "code",
        "colab": {}
      },
      "source": [
        "# 85%資料(14234)拿來train, 剩餘15%(2512-1=2511, 因為最後一筆沒有答案)做test\n",
        "# 今我們的輸入為RGB，也就是有3個channel, 所以要將 (216, 216) --> (216, 216, 3)，告訴他我們有3個channel，最後做標準化的動作。\n",
        "# 標準化(normalization)，使值在0~1之間，可避免被資料scale拉走\n",
        "x_train = x[0:14234]/ 255\n",
        "x_test = x[14234:16745]/ 255\n",
        "y_train_origin = np.array(df[\"T+1Path\"].tolist()[0:14234])\n",
        "y_test_origin = np.array(df[\"T+1Path\"].tolist()[14234:16745])"
      ],
      "execution_count": 0,
      "outputs": []
    },
    {
      "cell_type": "code",
      "metadata": {
        "id": "_s0QTKB9sSwN",
        "colab_type": "code",
        "colab": {}
      },
      "source": [
        "from tensorflow.keras.utils import to_categorical\n",
        "\n",
        "# 輸出變成2維行向量。\n",
        "y_train = to_categorical(y_train_origin, 2)\n",
        "y_test = to_categorical(y_test_origin, 2)"
      ],
      "execution_count": 0,
      "outputs": []
    },
    {
      "cell_type": "code",
      "metadata": {
        "id": "kuvMlKmu9gFg",
        "colab_type": "code",
        "colab": {}
      },
      "source": [
        "from tensorflow.keras.models import Sequential\n",
        "from tensorflow.keras.layers import Conv2D, MaxPooling2D\n",
        "from tensorflow.keras.layers import Dense, Flatten\n",
        "from tensorflow.keras.optimizers import SGD"
      ],
      "execution_count": 0,
      "outputs": []
    },
    {
      "cell_type": "code",
      "metadata": {
        "id": "7uSHA_5F9lrd",
        "colab_type": "code",
        "colab": {}
      },
      "source": [
        "model = Sequential()"
      ],
      "execution_count": 0,
      "outputs": []
    },
    {
      "cell_type": "code",
      "metadata": {
        "id": "YOwWJ5h09ng0",
        "colab_type": "code",
        "colab": {}
      },
      "source": [
        "model.add(Conv2D(32, (3, 3), padding = \"same\", \n",
        "                 input_shape = (72, 72, 3), \n",
        "                 activation = \"relu\"))"
      ],
      "execution_count": 0,
      "outputs": []
    },
    {
      "cell_type": "code",
      "metadata": {
        "id": "GR6L47pm9xqQ",
        "colab_type": "code",
        "colab": {}
      },
      "source": [
        "model.add(MaxPooling2D(pool_size = (2,2)))"
      ],
      "execution_count": 0,
      "outputs": []
    },
    {
      "cell_type": "code",
      "metadata": {
        "id": "vMiKPzxU97ip",
        "colab_type": "code",
        "colab": {}
      },
      "source": [
        "model.add(Conv2D(64, (3, 3), padding = \"same\", activation = \"relu\"))"
      ],
      "execution_count": 0,
      "outputs": []
    },
    {
      "cell_type": "code",
      "metadata": {
        "id": "QCjILvqa99i_",
        "colab_type": "code",
        "colab": {}
      },
      "source": [
        "model.add(MaxPooling2D(pool_size = (2,2)))"
      ],
      "execution_count": 0,
      "outputs": []
    },
    {
      "cell_type": "code",
      "metadata": {
        "id": "UwPVjYN39_PS",
        "colab_type": "code",
        "colab": {}
      },
      "source": [
        "model.add(Conv2D(128, (3, 3), padding = \"same\", activation = \"relu\"))"
      ],
      "execution_count": 0,
      "outputs": []
    },
    {
      "cell_type": "code",
      "metadata": {
        "id": "ejm6k-c7-BAX",
        "colab_type": "code",
        "colab": {}
      },
      "source": [
        "model.add(MaxPooling2D(pool_size = (2,2)))"
      ],
      "execution_count": 0,
      "outputs": []
    },
    {
      "cell_type": "code",
      "metadata": {
        "id": "CV_G2doH-DFO",
        "colab_type": "code",
        "colab": {}
      },
      "source": [
        "# 把最後128張記分板拉平，以便後面進入全連結神經網路！\n",
        "model.add(Flatten())"
      ],
      "execution_count": 0,
      "outputs": []
    },
    {
      "cell_type": "code",
      "metadata": {
        "id": "sPkrG-aq-Est",
        "colab_type": "code",
        "colab": {}
      },
      "source": [
        "# 接著設定Dense，神經元設128個，激發函數一樣用relu，隱藏層一層。\n",
        "model.add(Dense(128, activation = \"relu\"))"
      ],
      "execution_count": 0,
      "outputs": []
    },
    {
      "cell_type": "code",
      "metadata": {
        "id": "k95iuQGp-Ii-",
        "colab_type": "code",
        "colab": {}
      },
      "source": [
        "# 最後輸出2維向量，softmax表和為1。\n",
        "model.add(Dense(2, activation = \"softmax\"))"
      ],
      "execution_count": 0,
      "outputs": []
    },
    {
      "cell_type": "code",
      "metadata": {
        "id": "joEZAavb-Lg4",
        "colab_type": "code",
        "colab": {
          "base_uri": "https://localhost:8080/",
          "height": 459
        },
        "outputId": "f050a613-0322-45ed-a0bd-3027b7dad09d"
      },
      "source": [
        "model.summary()"
      ],
      "execution_count": 59,
      "outputs": [
        {
          "output_type": "stream",
          "text": [
            "Model: \"sequential_2\"\n",
            "_________________________________________________________________\n",
            "Layer (type)                 Output Shape              Param #   \n",
            "=================================================================\n",
            "conv2d_6 (Conv2D)            (None, 72, 72, 32)        896       \n",
            "_________________________________________________________________\n",
            "max_pooling2d_6 (MaxPooling2 (None, 36, 36, 32)        0         \n",
            "_________________________________________________________________\n",
            "conv2d_7 (Conv2D)            (None, 36, 36, 64)        18496     \n",
            "_________________________________________________________________\n",
            "max_pooling2d_7 (MaxPooling2 (None, 18, 18, 64)        0         \n",
            "_________________________________________________________________\n",
            "conv2d_8 (Conv2D)            (None, 18, 18, 128)       73856     \n",
            "_________________________________________________________________\n",
            "max_pooling2d_8 (MaxPooling2 (None, 9, 9, 128)         0         \n",
            "_________________________________________________________________\n",
            "flatten_2 (Flatten)          (None, 10368)             0         \n",
            "_________________________________________________________________\n",
            "dense_4 (Dense)              (None, 128)               1327232   \n",
            "_________________________________________________________________\n",
            "dense_5 (Dense)              (None, 2)                 258       \n",
            "=================================================================\n",
            "Total params: 1,420,738\n",
            "Trainable params: 1,420,738\n",
            "Non-trainable params: 0\n",
            "_________________________________________________________________\n"
          ],
          "name": "stdout"
        }
      ]
    },
    {
      "cell_type": "code",
      "metadata": {
        "id": "2bOnM65o-Ncy",
        "colab_type": "code",
        "colab": {}
      },
      "source": [
        "model.compile(loss = \"binary_crossentropy\", optimizer = SGD(lr = 0.001), metrics = [\"accuracy\"])"
      ],
      "execution_count": 0,
      "outputs": []
    },
    {
      "cell_type": "code",
      "metadata": {
        "id": "yIlENNx9-UQL",
        "colab_type": "code",
        "colab": {
          "base_uri": "https://localhost:8080/",
          "height": 714
        },
        "outputId": "5070cefc-f2ff-41f7-deef-1864d5a9a9d6"
      },
      "source": [
        "model.fit(x_train, y_train, batch_size = 128, epochs = 20)"
      ],
      "execution_count": 61,
      "outputs": [
        {
          "output_type": "stream",
          "text": [
            "Epoch 1/20\n",
            "112/112 [==============================] - 3s 25ms/step - loss: 0.6928 - accuracy: 0.5204\n",
            "Epoch 2/20\n",
            "112/112 [==============================] - 3s 25ms/step - loss: 0.6921 - accuracy: 0.5247\n",
            "Epoch 3/20\n",
            "112/112 [==============================] - 3s 25ms/step - loss: 0.6922 - accuracy: 0.5267\n",
            "Epoch 4/20\n",
            "112/112 [==============================] - 3s 25ms/step - loss: 0.6921 - accuracy: 0.5259\n",
            "Epoch 5/20\n",
            "112/112 [==============================] - 3s 25ms/step - loss: 0.6920 - accuracy: 0.5266\n",
            "Epoch 6/20\n",
            "112/112 [==============================] - 3s 25ms/step - loss: 0.6920 - accuracy: 0.5275\n",
            "Epoch 7/20\n",
            "112/112 [==============================] - 3s 25ms/step - loss: 0.6919 - accuracy: 0.5259\n",
            "Epoch 8/20\n",
            "112/112 [==============================] - 3s 25ms/step - loss: 0.6918 - accuracy: 0.5250\n",
            "Epoch 9/20\n",
            "112/112 [==============================] - 3s 25ms/step - loss: 0.6919 - accuracy: 0.5278\n",
            "Epoch 10/20\n",
            "112/112 [==============================] - 3s 25ms/step - loss: 0.6919 - accuracy: 0.5266\n",
            "Epoch 11/20\n",
            "112/112 [==============================] - 3s 25ms/step - loss: 0.6918 - accuracy: 0.5272\n",
            "Epoch 12/20\n",
            "112/112 [==============================] - 3s 25ms/step - loss: 0.6918 - accuracy: 0.5268\n",
            "Epoch 13/20\n",
            "112/112 [==============================] - 3s 25ms/step - loss: 0.6917 - accuracy: 0.5276\n",
            "Epoch 14/20\n",
            "112/112 [==============================] - 3s 26ms/step - loss: 0.6917 - accuracy: 0.5266\n",
            "Epoch 15/20\n",
            "112/112 [==============================] - 3s 26ms/step - loss: 0.6916 - accuracy: 0.5268\n",
            "Epoch 16/20\n",
            "112/112 [==============================] - 3s 25ms/step - loss: 0.6916 - accuracy: 0.5251\n",
            "Epoch 17/20\n",
            "112/112 [==============================] - 3s 26ms/step - loss: 0.6915 - accuracy: 0.5266\n",
            "Epoch 18/20\n",
            "112/112 [==============================] - 3s 26ms/step - loss: 0.6914 - accuracy: 0.5285\n",
            "Epoch 19/20\n",
            "112/112 [==============================] - 3s 25ms/step - loss: 0.6914 - accuracy: 0.5282\n",
            "Epoch 20/20\n",
            "112/112 [==============================] - 3s 25ms/step - loss: 0.6915 - accuracy: 0.5284\n"
          ],
          "name": "stdout"
        },
        {
          "output_type": "execute_result",
          "data": {
            "text/plain": [
              "<tensorflow.python.keras.callbacks.History at 0x7f91200b5828>"
            ]
          },
          "metadata": {
            "tags": []
          },
          "execution_count": 61
        }
      ]
    },
    {
      "cell_type": "code",
      "metadata": {
        "id": "ezXOjg7l-cjv",
        "colab_type": "code",
        "colab": {}
      },
      "source": [
        "result = model.predict_classes(x_test)"
      ],
      "execution_count": 0,
      "outputs": []
    },
    {
      "cell_type": "code",
      "metadata": {
        "id": "aFhUw-on-mrK",
        "colab_type": "code",
        "colab": {
          "base_uri": "https://localhost:8080/",
          "height": 34
        },
        "outputId": "293ab9f4-6f35-47ed-bbda-e60fc8768cf7"
      },
      "source": [
        "score = model.evaluate(x_test, y_test)"
      ],
      "execution_count": 66,
      "outputs": [
        {
          "output_type": "stream",
          "text": [
            "79/79 [==============================] - 0s 5ms/step - loss: 0.6921 - accuracy: 0.5245\n"
          ],
          "name": "stdout"
        }
      ]
    },
    {
      "cell_type": "code",
      "metadata": {
        "id": "f4ElItRP-1mw",
        "colab_type": "code",
        "colab": {}
      },
      "source": [
        "model.save(\"CNN_TechnicalAnalysisPath_version1.h5\")"
      ],
      "execution_count": 0,
      "outputs": []
    },
    {
      "cell_type": "code",
      "metadata": {
        "id": "umtLIK_q_AD8",
        "colab_type": "code",
        "colab": {
          "base_uri": "https://localhost:8080/",
          "height": 34
        },
        "outputId": "66c1cb7d-27c8-4c1c-9676-99a79afd4311"
      },
      "source": [
        "TP = 0\n",
        "FN = 0\n",
        "FP = 0\n",
        "TN = 0\n",
        "for i in range(len(result)):\n",
        "  if result[i] == 1:\n",
        "    if y_test_origin[i] == 1:\n",
        "      TP += 1\n",
        "    else:\n",
        "      FP += 1\n",
        "  else:\n",
        "    if y_test_origin[i] == 0:\n",
        "      TN += 1\n",
        "    else:\n",
        "      FN += 1\n",
        "print(TP/(TP+FN))"
      ],
      "execution_count": 75,
      "outputs": [
        {
          "output_type": "stream",
          "text": [
            "0.012658227848101266\n"
          ],
          "name": "stdout"
        }
      ]
    },
    {
      "cell_type": "code",
      "metadata": {
        "id": "c1VYP_qMDcTv",
        "colab_type": "code",
        "colab": {}
      },
      "source": [
        ""
      ],
      "execution_count": 0,
      "outputs": []
    }
  ]
}