{
 "cells": [
  {
   "cell_type": "markdown",
   "metadata": {},
   "source": [
    "利用期貨調整投資組合beta之最適避險口數計算"
   ]
  },
  {
   "cell_type": "code",
   "execution_count": 1,
   "metadata": {},
   "outputs": [],
   "source": [
    "def futuresHedge(IndividualPrice, IndividualUnits, IndividualBeta, PortfolioTargetBeta, TXFPrice):\n",
    "    \"\"\"參數皆為List形式，視投資組合標的資產數量決定list長度。\"\"\"\n",
    "    portfolioValue = []\n",
    "    for i in range(len(IndividualPrice)):\n",
    "        portfolioValue.append(IndividualPrice[i] * IndividualUnits[i])\n",
    "    portfolioBeta = 0\n",
    "    for j in range(len(IndividualBeta)):\n",
    "        portfolioBeta += (portfolioValue[j]/sum(portfolioValue)) * IndividualBeta[j]\n",
    "    return (PortfolioTargetBeta - portfolioBeta) * (sum(portfolioValue) / (200 * TXFPrice))"
   ]
  },
  {
   "cell_type": "code",
   "execution_count": 2,
   "metadata": {},
   "outputs": [
    {
     "data": {
      "text/plain": [
       "-173.75"
      ]
     },
     "execution_count": 2,
     "metadata": {},
     "output_type": "execute_result"
    }
   ],
   "source": [
    "# Completely Hedged\n",
    "futuresHedge([300, 350, 3500, 50], [100000, 100000, 50000, 200000], [1.4, 1.3, 1.4, 1.5], 0, 10000)"
   ]
  },
  {
   "cell_type": "code",
   "execution_count": null,
   "metadata": {},
   "outputs": [],
   "source": []
  }
 ],
 "metadata": {
  "kernelspec": {
   "display_name": "Python 3",
   "language": "python",
   "name": "python3"
  },
  "language_info": {
   "codemirror_mode": {
    "name": "ipython",
    "version": 3
   },
   "file_extension": ".py",
   "mimetype": "text/x-python",
   "name": "python",
   "nbconvert_exporter": "python",
   "pygments_lexer": "ipython3",
   "version": "3.7.6"
  }
 },
 "nbformat": 4,
 "nbformat_minor": 4
}
