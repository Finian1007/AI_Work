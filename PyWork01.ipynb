{
 "cells": [
  {
   "cell_type": "markdown",
   "metadata": {},
   "source": [
    "利用Black-Scholes Pricing Formula，找到Delta，替發行券商設計一個自動計算達成Delta Neutral所需現貨避險部位大小。"
   ]
  },
  {
   "cell_type": "code",
   "execution_count": 1,
   "metadata": {},
   "outputs": [],
   "source": [
    "from numpy import exp\n",
    "from numpy.lib.scimath import log, sqrt\n",
    "from scipy.stats import norm"
   ]
  },
  {
   "cell_type": "code",
   "execution_count": 2,
   "metadata": {},
   "outputs": [],
   "source": [
    "# From Black-Scholes formula for european call price, we can derive delta as below.\n",
    "def Black_Scholes_Call_Delta(S, K, r, T, sigma):\n",
    "    d1 = (log(S/K) + (r + 0.5 * sigma**2) * T)/(sigma * sqrt(T))\n",
    "    return norm.cdf(d1)\n",
    "\n",
    "# Delta Neutrality\n",
    "def Delta_Hedge(S, K, r, T, sigma, Type, OptionUnits, ExerciseRatio = 1):\n",
    "    \"\"\"Type填Call或Put；OptionUnits為權證/選擇權發行單位數；ExerciseRatio為交換比率，預設為1。\"\"\"\n",
    "    if Type == \"Call\":\n",
    "        position = OptionUnits * ExerciseRatio * Black_Scholes_Call_Delta(S, K, r, T, sigma)\n",
    "        print(Black_Scholes_Call_Delta(S, K, r, T, sigma))\n",
    "        print(\"You should buy {} shares of target asset.\".format(position))\n",
    "    elif Type == \"Put\":\n",
    "        position = abs(OptionUnits * ExerciseRatio * (Black_Scholes_Call_Delta(S, K, r, T, sigma) - 1))\n",
    "        print(\"You should sell {} shares of target asset.\".format(position))"
   ]
  },
  {
   "cell_type": "code",
   "execution_count": 3,
   "metadata": {},
   "outputs": [
    {
     "name": "stdout",
     "output_type": "stream",
     "text": [
      "0.779131290942669\n",
      "You should buy 7791312.90942669 shares of target asset.\n"
     ]
    }
   ],
   "source": [
    "Delta_Hedge(42, 40, 0.1, 0.5, 0.2, \"Call\", 10000000)"
   ]
  },
  {
   "cell_type": "code",
   "execution_count": null,
   "metadata": {},
   "outputs": [],
   "source": []
  }
 ],
 "metadata": {
  "kernelspec": {
   "display_name": "Python 3",
   "language": "python",
   "name": "python3"
  },
  "language_info": {
   "codemirror_mode": {
    "name": "ipython",
    "version": 3
   },
   "file_extension": ".py",
   "mimetype": "text/x-python",
   "name": "python",
   "nbconvert_exporter": "python",
   "pygments_lexer": "ipython3",
   "version": "3.7.6"
  }
 },
 "nbformat": 4,
 "nbformat_minor": 4
}
