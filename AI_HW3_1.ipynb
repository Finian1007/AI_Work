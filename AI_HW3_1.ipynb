{
 "cells": [
  {
   "cell_type": "code",
   "execution_count": 1,
   "metadata": {},
   "outputs": [],
   "source": [
    "from numpy import exp\n",
    "from numpy.lib.scimath import log, sqrt\n",
    "from scipy.stats import norm"
   ]
  },
  {
   "cell_type": "code",
   "execution_count": 2,
   "metadata": {},
   "outputs": [],
   "source": [
    "# Black-Scholes formula for european call price in terms of theory.\n",
    "def Black_Scholes_Call(S, K, r, T, sigma):\n",
    "    d1 = (log(S/K) + (r + 0.5 * sigma**2) * T)/sigma * sqrt(T)\n",
    "    d2 = d1 - sigma * sqrt(T)\n",
    "    return S * norm.cdf(d1) - K * exp(-r * T) * norm.cdf(d2)\n",
    "\n",
    "# Then use put-call parity, we can also find european put price in terms of theory.\n",
    "def European_Put(S, K, r, T, callPrice):\n",
    "    return callPrice - S + K * exp(-r * T)"
   ]
  },
  {
   "cell_type": "code",
   "execution_count": 3,
   "metadata": {},
   "outputs": [
    {
     "name": "stdout",
     "output_type": "stream",
     "text": [
      "Theoretical call price is 30.416810864122453, and theoretical put price is 91.15292564032279.\n"
     ]
    }
   ],
   "source": [
    "#EX: S=9439, K=9500, r=0.01, T=1/360, sigma=0.3042\n",
    "call = Black_Scholes_Call(9439, 9500, 0.01, 1/360, 0.3042)\n",
    "put = European_Put(9439, 9500, 0.01, 1/360, call)\n",
    "print(\"Theoretical call price is {}, and theoretical put price is {}.\".format(call, put))"
   ]
  },
  {
   "cell_type": "code",
   "execution_count": null,
   "metadata": {},
   "outputs": [],
   "source": []
  }
 ],
 "metadata": {
  "kernelspec": {
   "display_name": "Python 3",
   "language": "python",
   "name": "python3"
  },
  "language_info": {
   "codemirror_mode": {
    "name": "ipython",
    "version": 3
   },
   "file_extension": ".py",
   "mimetype": "text/x-python",
   "name": "python",
   "nbconvert_exporter": "python",
   "pygments_lexer": "ipython3",
   "version": "3.7.6"
  }
 },
 "nbformat": 4,
 "nbformat_minor": 4
}
